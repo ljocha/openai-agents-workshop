{
 "cells": [
  {
   "cell_type": "markdown",
   "id": "900ceda0-8222-4ee0-a705-d9c932e0403a",
   "metadata": {},
   "source": [
    "# Optimalizace kódu\n",
    "\n",
    "Cílem je vytvořit agenta, kterému dáte funkci v C/C++, návod jak vygenerovat vstup, a agent vám tuto funkci skompiluje, změří její rychlost, a navrhne optimalizované řešení. S agentem lze pracovat iterativně, kdy mu radíte, co ještě vyzkoušet, a agent bude dále kompilovat a spouštět alternativní řešení.\n",
    "\n",
    "Kód kompilujte jednoduše, ať nemusíte instalovat fancy věci -- s gcc lze použít např.\n",
    "```\n",
    "g++ -O3 -o bench bench.cpp -fopenmp\n",
    "```\n",
    "Jazykovému modelu je pak vhodné prozradit, co smí používat, či přímo jak kód kompilujete. Pokročilejší verze pak může nechat LLM měnit způsob kompilace.\n",
    "\n",
    "Agenta testujte na něčem jednoduchém. Aby se jeho doladěnější verze trochu \"zabavily\", použijte už složitější kód Coulombovské sumace:\n",
    "```\n",
    "struct sAtom{\n",
    "    float x, y, z;\n",
    "    float w;\n",
    "};\n",
    "void coulombNaive(const sAtom* __restrict__ atoms, const int numberOfAtoms, const float gridSpacing, const int gridPoints, float* __restrict__ grid) {\n",
    "    for (int a = 0; a < numberOfAtoms; a++) {\n",
    "        sAtom myAtom = atoms[a];\n",
    "        for (int x = 0; x < gridPoints; x++) {\n",
    "            float dx2 = powf((float)x * gridSpacing - myAtom.x, 2.0f);\n",
    "            for (int y = 0; y < gridPoints; y++) {\n",
    "                float dy2 = powf((float)y * gridSpacing - myAtom.y, 2.0f);\n",
    "                for (int z = 0; z < gridPoints; z++) {\n",
    "                    float dz = (float)z * gridSpacing - myAtom.z;\n",
    "                    float e = myAtom.w / sqrtf(dx2 + dy2 + dz*dz);\n",
    "                    grid[z*gridPoints*gridPoints + y*gridPoints + x] += e;\n",
    "                }\n",
    "            }\n",
    "        }\n",
    "    }\n",
    "```\n",
    "Do pole atoms můžete pro testování nasypat náhodná čísla, ideálně v intervalu (0, 1), gridSpacing nastavte na 0.01. Dostatečně dlouhý výpočet chce pole grid alokované na velikost 256x256x256, tím pádem gridPoints nastavte na 256, počet atomů numberOfAtoms nastavte okolo 1000 a adekvátně tomu alokujte pole atoms. Pole grid alokujte vynulované.\n",
    "\n",
    "**Upozornění** v doporučené velikosti vstupu trvá naivní implementace několik minut, nicméně optimalizované verze lze zrychlit na běh v řádu nízkých jednotek sekund na běžném notebooku, proto je kvůli přesnosti měření doporučen relativně velký vstup."
   ]
  },
  {
   "cell_type": "code",
   "execution_count": null,
   "id": "39e78bf7-f350-4eb2-94d6-e84285dc6a54",
   "metadata": {},
   "outputs": [],
   "source": [
    "from openai import OpenAI\n",
    "import json\n",
    "import subprocess\n",
    "import os\n",
    "from openai import ChatCompletion"
   ]
  },
  {
   "cell_type": "code",
   "execution_count": null,
   "id": "7c4e352e-5807-4439-931c-f8f4b6a34faa",
   "metadata": {},
   "outputs": [],
   "source": [
    "#API key\n",
    "OPENAI_API_KEY = \"TODO\""
   ]
  },
  {
   "cell_type": "code",
   "execution_count": null,
   "id": "2a39dbf0-2858-4e6e-8441-b71b745c357e",
   "metadata": {},
   "outputs": [],
   "source": [
    "client = OpenAI(api_key=OPENAI_API_KEY)"
   ]
  }
 ],
 "metadata": {
  "kernelspec": {
   "display_name": "Python 3 (ipykernel)",
   "language": "python",
   "name": "python3"
  },
  "language_info": {
   "codemirror_mode": {
    "name": "ipython",
    "version": 3
   },
   "file_extension": ".py",
   "mimetype": "text/x-python",
   "name": "python",
   "nbconvert_exporter": "python",
   "pygments_lexer": "ipython3",
   "version": "3.9.23"
  }
 },
 "nbformat": 4,
 "nbformat_minor": 5
}
