{
 "cells": [
  {
   "cell_type": "markdown",
   "id": "0",
   "metadata": {},
   "source": [
    "# Ladění parametrů simulace v Gromacsu jako nástroj pro jazykový model\n",
    "\n",
    "Cílem cvičení je vytvořit a s jazykovým modelem propojit nástroj/agenta, který na dotazy typu:\n",
    "\n",
    "_What is the best way to run Gromacs molecular dynamics simulation on tryptophan cage miniprotein known in PDB as 1L2Y?_\n",
    "\n",
    "kvalifikovaně odpoví:\n",
    "\n",
    "*Here are the best Gromacs commands for running molecular dynamics simulation on PDB ID 1L2Y, along with their estimated performance in nanoseconds per day:*\n",
    "\n",
    "1. **Best Performance (CPU-based)**\n",
    "   ```bash\n",
    "   mpirun -np 4 gmx mdrun -deffnm md -ntomp 4 -nb cpu -pme cpu # 217.619 ns/day\n",
    "   ```\n",
    "\n",
    "2. **Second Best Performance (GPU-based)**\n",
    "   ```bash\n",
    "   mpirun -np 1 gmx mdrun -deffnm md -ntomp 2 -nb gpu -pme gpu # 137.565 ns/day\n",
    "   ```\n",
    "\n",
    "3. **Third Best Performance (GPU-based)**\n",
    "   ```bash\n",
    "   mpirun -np 1 gmx mdrun -deffnm md -ntomp 1 -nb gpu -pme gpu # 134.849 ns/day\n",
    "   ```\n",
    "\n",
    "4. **Fourth Best Performance (GPU-based)**\n",
    "   ```bash\n",
    "   mpirun -np 1 gmx mdrun -deffnm md -ntomp 4 -nb gpu -pme gpu # 124.032 ns/day\n",
    "   ```\n",
    "\n",
    "5. **Fifth Best Performance (Mixed GPU/CPU)**\n",
    "   ```bash\n",
    "   mpirun -np 1 gmx mdrun -deffnm md -ntomp 1 -nb gpu -pme cpu # 68.139 ns/day\n",
    "   ```\n",
    "\n",
    "6. **Lowest Performance (Mixed GPU/CPU)**\n",
    "   ```bash\n",
    "   mpirun -np 2 gmx mdrun -deffnm md -ntomp 2 -nb gpu -pme cpu # 44.354 ns/day\n",
    "   ```\n",
    "\n",
    "*You can choose the command that best fits your computational resources and performance requirements. Happy simulating!*\n",
    "\n",
    "## Příprava prostředí\n",
    "\n",
    "### Účet v Metacentru\n",
    "Nemáte-li ještě účet v [Metacentru](http://metacentrum.cz), požádejte si o členství vyplněním [formuláře přihlášky](https://metavo.metacentrum.cz/cs/application/prihlaska). Nenechávejte to na poslední chvíli, schválení trvá zpravidla do následujícího dne.\n",
    "\n",
    "### Jupyterlab\n",
    "Navštivte [Jupyterhub](https://hub.cloud.e-infra.cz/), a nastartujte si tam \"My Server\" s těmito parametry:\n",
    "- Choosing Image -> Simple Jupyter Images -> Minimal NB with AI\n",
    "- Choosing Storage -> Persistent Notebook Home:\n",
    "  - napoprvé New\n",
    "  - při dalších startech se vrátit k existujícímu\n",
    "- Resources -> CPU 1, Memory 8 GB, bez GPU\n",
    "\n",
    "### Klon repozitáře\n",
    "V terminálu ve vašem Jupyterlabu:\n",
    "```\n",
    "git clone https://github.com/ljocha/openai-agents-workshop.git\n",
    "```\n",
    "\n",
    "### Klíče\n",
    "V adresáři `openai-agents-workshop/agents-demo` vytvořte soubory\n",
    "- `key`: klíč k OpenAI API\n",
    "- `tuner-auth`: jméno a heslo k našemu tuneru gromacsových simulací\n",
    "a do nich zapiště, co vám řekneme.\n",
    "\n",
    "### Instalace potřebných balíků, wrapperu Gromacsu apod.\n",
    "Směle spusťte následující buňky."
   ]
  },
  {
   "cell_type": "code",
   "execution_count": null,
   "id": "1",
   "metadata": {},
   "outputs": [],
   "source": [
    "# tohle všechno potřebujeme ke štěstí\n",
    "%pip install -r requirements.txt"
   ]
  },
  {
   "cell_type": "code",
   "execution_count": null,
   "id": "2",
   "metadata": {},
   "outputs": [],
   "source": [
    "# balík gromacs potřebuje binárku `gmx`, použijeme wrapper, který si gromacs spustí ve vedlejším kontejneru v K8s\n",
    "%cp gmx-wrap2.sh /usr/local/bin/gmx\n",
    "!chmod +x /usr/local/bin/gmx"
   ]
  },
  {
   "cell_type": "code",
   "execution_count": null,
   "id": "3",
   "metadata": {
    "jupyter": {
     "source_hidden": true
    }
   },
   "outputs": [],
   "source": [
    "# wrapper gromacsu potřebuje kubectl\n",
    "!curl -LO \"https://dl.k8s.io/release/$(curl -L -s https://dl.k8s.io/release/stable.txt)/bin/linux/amd64/kubectl\"\n",
    "!chmod +x kubectl\n",
    "%cp kubectl /usr/local/bin"
   ]
  },
  {
   "cell_type": "code",
   "execution_count": null,
   "id": "4",
   "metadata": {
    "jupyter": {
     "outputs_hidden": true
    }
   },
   "outputs": [],
   "source": [
    "import gromacs as gmx\n",
    "import requests\n",
    "import json\n",
    "import time\n",
    "import pandas as pd\n",
    "from IPython.display import display, clear_output"
   ]
  },
  {
   "cell_type": "markdown",
   "id": "5",
   "metadata": {},
   "source": [
    "## Zvolte si oblíbenou molekulu\n",
    "Defaultně nastavený `1l2y` je oblíbený pokusný králík, miniprotein \"tryptophanová klec\", v simulacích se rychle něco děje, ale přitom už jsou realistické.\n",
    "\n",
    "Dejte si sem, co chcete, ale počítejte, že soubor stažený z databáze musí bez řečí zpracovat `gmx pdb2gmx`, což není pro všechny záznamy v PDB zdaleka zaručeno. "
   ]
  },
  {
   "cell_type": "code",
   "execution_count": null,
   "id": "6",
   "metadata": {},
   "outputs": [],
   "source": [
    "mol='1l2y'"
   ]
  },
  {
   "cell_type": "markdown",
   "id": "7",
   "metadata": {},
   "source": [
    "## Externí služba ladiče výpočtů\n",
    "Při zavolání API spustí sadu experimentů v různých konfiguracích a postupně reportuje výsledky. Viz [Adamova diplomka](https://is.muni.cz/auth/th/y6w2x/).\n",
    "\n",
    "Je třeba zadat endpoint, kde API poslouchá, a přístupové údaje k němu uložit do souboru `tuner-auth`."
   ]
  },
  {
   "cell_type": "code",
   "execution_count": null,
   "id": "8",
   "metadata": {},
   "outputs": [],
   "source": [
    "tuner = \"https://gromacs-tuner.dyn.cloud.e-infra.cz/api\"\n",
    "\n",
    "with open('tuner-auth') as a:\n",
    "    tuner_auth = a.read().strip()\n"
   ]
  },
  {
   "cell_type": "markdown",
   "id": "9",
   "metadata": {},
   "source": [
    "### Konstrukce vstupu laděného výpočtu\n",
    "Netrpěliví mohou spustit mechanicky všechny buňky až po následujcí část **Příprava simulace komplet**.\n",
    "\n",
    "Pokud to někoho zajímá, vychází z proflákuntého tutorialu [Lysosome in water](http://www.mdtutorials.com/gmx/lysozyme/index.html).\n",
    "\n",
    "Postupně se spustí:\n",
    "1. Stažení souboru z PDB\n",
    "2. Konverze do základních vstupních souborů pro Gromacs, specifikace silového pole, velikosti a tvaru simulačního boxu, a modelu vody\n",
    "3. Osolit, opepřit -- přidáváme ionty sodíku a chloru tak, aby se náboj celého systému vyrovnal na nulu\n",
    "4. Rychlá energetická minimalizace -- systém stažený z PDB nemusí být v minimálním stavu vůči použitému silovému poli a mohl by dostat na začátku kopanec, proto ho necháme opatrně sklouznout do stabilního stavu\n",
    "5. Ekvilibrace -- atomy proteinu držíme na místě, vodu \"ohřejeme\" na 300K (tj. jejím molekulám přidáme rychlosti) a krátkou simulací to necháme sednout do realistického, dynamicky stabilizovaného stavu\n",
    "6. Vygenerování vstupu pro produkční simulaci -- jediného souboru `md.tpr`, kde je vše"
   ]
  },
  {
   "cell_type": "code",
   "execution_count": null,
   "id": "10",
   "metadata": {},
   "outputs": [],
   "source": [
    "def getPDB(pdbid):\n",
    "    url = f\"https://files.rcsb.org/download/{pdbid.upper()}.pdb\"\n",
    "    response = requests.get(url)\n",
    "    if response.status_code == 200:\n",
    "        with open(f\"{pdbid}.pdb\", \"w\") as f:\n",
    "            f.write(response.text)\n",
    "        print(f\"Downloaded {pdbid}.pdb\")\n",
    "    else:\n",
    "        raise ValueError(response.text)"
   ]
  },
  {
   "cell_type": "code",
   "execution_count": null,
   "id": "11",
   "metadata": {},
   "outputs": [],
   "source": [
    "#getPDB(mol)"
   ]
  },
  {
   "cell_type": "code",
   "execution_count": null,
   "id": "12",
   "metadata": {},
   "outputs": [],
   "source": [
    "def gmxsetup(name):\n",
    "    gmx.pdb2gmx(f=name+'.pdb',o=name+'.gro',water='tip3p',ff='amber99',p=name+'.top',ignh=True)\n",
    "    gmx.editconf(f=name+'.gro',o=name+'-box.gro',c=True,d='1.5', bt='dodecahedron')\n",
    "    !cp {name}.top {name}-solv.top\n",
    "    gmx.solvate(cp=name+'-box.gro',cs='spc216.gro',o=name+'-solv.gro',p=name+'-solv.top')\n",
    "    "
   ]
  },
  {
   "cell_type": "code",
   "execution_count": null,
   "id": "13",
   "metadata": {},
   "outputs": [],
   "source": [
    "#gmxsetup(mol)"
   ]
  },
  {
   "cell_type": "code",
   "execution_count": null,
   "id": "14",
   "metadata": {},
   "outputs": [],
   "source": [
    "def gmxions(name):\n",
    "    with open('ions.mdp','w') as ions:\n",
    "        ions.write(\"\"\"\\\n",
    "integrator  = steep         ; Algorithm (steep = steepest descent minimization)\n",
    "emtol       = 1000.0        ; Stop minimization when the maximum force < 1000.0 kJ/mol/nm\n",
    "emstep      = 0.01          ; Minimization step size\n",
    "nsteps      = 50000         ; Maximum number of (minimization) steps to perform\n",
    "\n",
    "; Parameters describing how to find the neighbors of each atom and how to calculate the interactions\n",
    "nstlist         = 1         ; Frequency to update the neighbor list and long range forces\n",
    "cutoff-scheme\t= Verlet    ; Buffered neighbor searching \n",
    "ns_type         = grid      ; Method to determine neighbor list (simple, grid)\n",
    "coulombtype     = cutoff    ; Treatment of long range electrostatic interactions\n",
    "rcoulomb        = 1.0       ; Short-range electrostatic cut-off\n",
    "rvdw            = 1.0       ; Short-range Van der Waals cut-off\n",
    "pbc             = xyz       ; Periodic Boundary Conditions in all 3 dimensions\n",
    "\"\"\")\n",
    "    \n",
    "    gmx.grompp(f='ions.mdp',c=name+'-solv.gro',p=name+'-solv.top',o='ions.tpr')\n",
    "    gmx.select(s=name+'-solv.gro',on='solv.ndx',select='SOL')\n",
    "    !cp {name}-solv.top {name}-ions.top\n",
    "    gmx.genion(s='ions.tpr',n='solv.ndx',o=name+'-ions.gro',p=name+'-ions.top',pname='NA',nname='CL',neutral=True)"
   ]
  },
  {
   "cell_type": "code",
   "execution_count": null,
   "id": "15",
   "metadata": {},
   "outputs": [],
   "source": [
    "#gmxions(mol)"
   ]
  },
  {
   "cell_type": "code",
   "execution_count": null,
   "id": "16",
   "metadata": {},
   "outputs": [],
   "source": [
    "def gmxmin(name):\n",
    "    with open('minim.mdp','w') as m:\n",
    "        m.write(\"\"\"\\\n",
    "integrator  = steep         ; Algorithm (steep = steepest descent minimization)\n",
    "emtol       = 1000.0        ; Stop minimization when the maximum force < 1000.0 kJ/mol/nm\n",
    "emstep      = 0.005          ; Minimization step size\n",
    "nsteps      = 50000         ; Maximum number of (minimization) steps to perform\n",
    "\n",
    "; Parameters describing how to find the neighbors of each atom and how to calculate the interactions\n",
    "nstlist         = 1         ; Frequency to update the neighbor list and long range forces\n",
    "cutoff-scheme   = Verlet    ; Buffered neighbor searching\n",
    "ns_type         = grid      ; Method to determine neighbor list (simple, grid)\n",
    "coulombtype     = PME       ; Treatment of long range electrostatic interactions\n",
    "rcoulomb        = 1.0       ; Short-range electrostatic cut-off\n",
    "rvdw            = 1.0       ; Short-range Van der Waals cut-off\n",
    "pbc             = xyz       ; Periodic Boundary Conditions in all 3 dimensions\n",
    "\n",
    "nstxout                 = 50         \n",
    "nstvout                 = 0        \n",
    "nstfout                 = 0\n",
    "nstenergy               = 50         \n",
    "\"\"\")\n",
    "    \n",
    "    gmx.grompp(f='minim.mdp',c=name+'-ions.gro',p=name+'-ions.top',o='em.tpr')\n",
    "    gmx.mdrun(deffnm='em')"
   ]
  },
  {
   "cell_type": "code",
   "execution_count": null,
   "id": "17",
   "metadata": {},
   "outputs": [],
   "source": [
    "#gmxmin(mol)"
   ]
  },
  {
   "cell_type": "code",
   "execution_count": null,
   "id": "18",
   "metadata": {},
   "outputs": [],
   "source": [
    "# works for small proteins but can be a bit unrealistic (20ps)\n",
    "\n",
    "def gmxequilib(name,eqsteps = 10000):\n",
    "    with open('nvt.mdp','w') as nvt:\n",
    "        nvt.write(f'''title                   = NVT equilibration \n",
    "define                  = -DPOSRES  ; position restrain the protein\n",
    "; Run parameters\n",
    "integrator              = md        ; leap-frog integrator\n",
    "nsteps                  = {eqsteps}     ; 2 * 50000 = 100 ps\n",
    "dt                      = 0.002     ; 2 fs\n",
    "; Output control\n",
    "nstxout                 = 500       ; save coordinates every 1.0 ps\n",
    "nstvout                 = 500       ; save velocities every 1.0 ps\n",
    "nstenergy               = 500       ; save energies every 1.0 ps\n",
    "nstlog                  = 500       ; update log file every 1.0 ps\n",
    "; Bond parameters\n",
    "continuation            = no        ; first dynamics run\n",
    "constraint_algorithm    = lincs     ; holonomic constraints \n",
    "constraints             = h-bonds   ; bonds involving H are constrained\n",
    "lincs_iter              = 1         ; accuracy of LINCS\n",
    "lincs_order             = 4         ; also related to accuracy\n",
    "; Nonbonded settings \n",
    "cutoff-scheme           = Verlet    ; Buffered neighbor searching\n",
    "ns_type                 = grid      ; search neighboring grid cells\n",
    "nstlist                 = 10        ; 20 fs, largely irrelevant with Verlet\n",
    "rcoulomb                = 1.0       ; short-range electrostatic cutoff (in nm)\n",
    "rvdw                    = 1.0       ; short-range van der Waals cutoff (in nm)\n",
    "DispCorr                = EnerPres  ; account for cut-off vdW scheme\n",
    "; Electrostatics\n",
    "coulombtype             = PME       ; Particle Mesh Ewald for long-range electrostatics\n",
    "pme_order               = 4         ; cubic interpolation\n",
    "fourierspacing          = 0.16      ; grid spacing for FFT\n",
    "; Temperature coupling is on\n",
    "tcoupl                  = V-rescale             ; modified Berendsen thermostat\n",
    "tc-grps                 = Protein Non-Protein   ; two coupling groups - more accurate\n",
    "tau_t                   = 0.1     0.1           ; time constant, in ps\n",
    "ref_t                   = 300     300           ; reference temperature, one for each group, in K\n",
    "; Pressure coupling is off\n",
    "pcoupl                  = no        ; no pressure coupling in NVT\n",
    "; Periodic boundary conditions\n",
    "pbc                     = xyz       ; 3-D PBC\n",
    "; Velocity generation\n",
    "gen_vel                 = yes       ; assign velocities from Maxwell distribution\n",
    "gen_temp                = 300       ; temperature for Maxwell distribution\n",
    "gen_seed                = -1        ; generate a random seed\n",
    "''')\n",
    "    gmx.grompp(f=\"nvt.mdp\",c=\"em.gro\",r=\"em.gro\",p=name+'-ions.top',o=\"nvt.tpr\")\n",
    "    gmx.mdrun(deffnm='nvt',pin='on')\n",
    "    \n",
    "    with open('npt.mdp','w') as npt:\n",
    "        npt.write(f'''define                  = -DPOSRES  ; position restrain the protein\n",
    "; Run parameters\n",
    "integrator              = md        ; leap-frog integrator\n",
    "nsteps                  = {eqsteps}     ; 2 * 50000 = 100 ps\n",
    "dt                      = 0.002     ; 2 fs\n",
    "; Output control\n",
    "nstxout                 = 500       ; save coordinates every 1.0 ps\n",
    "nstvout                 = 500       ; save velocities every 1.0 ps\n",
    "nstenergy               = 500       ; save energies every 1.0 ps\n",
    "nstlog                  = 500       ; update log file every 1.0 ps\n",
    "; Bond parameters\n",
    "continuation            = yes       ; Restarting after NVT \n",
    "constraint_algorithm    = lincs     ; holonomic constraints \n",
    "constraints             = h-bonds   ; bonds involving H are constrained\n",
    "lincs_iter              = 1         ; accuracy of LINCS\n",
    "lincs_order             = 4         ; also related to accuracy\n",
    "; Nonbonded settings \n",
    "cutoff-scheme           = Verlet    ; Buffered neighbor searching\n",
    "ns_type                 = grid      ; search neighboring grid cells\n",
    "nstlist                 = 10        ; 20 fs, largely irrelevant with Verlet scheme\n",
    "rcoulomb                = 1.0       ; short-range electrostatic cutoff (in nm)\n",
    "rvdw                    = 1.0       ; short-range van der Waals cutoff (in nm)\n",
    "DispCorr                = EnerPres  ; account for cut-off vdW scheme\n",
    "; Electrostatics\n",
    "coulombtype             = PME       ; Particle Mesh Ewald for long-range electrostatics\n",
    "pme_order               = 4         ; cubic interpolation\n",
    "fourierspacing          = 0.16      ; grid spacing for FFT\n",
    "; Temperature coupling is on\n",
    "tcoupl                  = V-rescale             ; modified Berendsen thermostat\n",
    "tc-grps                 = Protein Non-Protein   ; two coupling groups - more accurate\n",
    "tau_t                   = 0.1     0.1           ; time constant, in ps\n",
    "ref_t                   = 300     300           ; reference temperature, one for each group, in K\n",
    "; Pressure coupling is on\n",
    "; ljocha pcoupl                  = Parrinello-Rahman     ; Pressure coupling on in NPT\n",
    "pcoupl = C-rescale\n",
    "pcoupltype              = isotropic             ; uniform scaling of box vectors\n",
    "; ljocha tau_p                   = 2.0                   ; time constant, in ps\n",
    "tau_p = 5.0\n",
    "ref_p                   = 1.0                   ; reference pressure, in bar\n",
    "compressibility         = 4.5e-5                ; isothermal compressibility of water, bar^-1\n",
    "refcoord_scaling        = com\n",
    "; Periodic boundary conditions\n",
    "pbc                     = xyz       ; 3-D PBC\n",
    "; Velocity generation\n",
    "gen_vel                 = no        ; Velocity generation is off \n",
    "''')\n",
    "    gmx.grompp(f=\"npt.mdp\",c=\"nvt.gro\",r=\"nvt.gro\",p=name+'-ions.top',o=\"npt.tpr\")\n",
    "    gmx.mdrun(deffnm='npt',pin='on')\n",
    "\n",
    "    "
   ]
  },
  {
   "cell_type": "code",
   "execution_count": null,
   "id": "19",
   "metadata": {},
   "outputs": [],
   "source": [
    "#gmxequilib(mol)"
   ]
  },
  {
   "cell_type": "code",
   "execution_count": null,
   "id": "20",
   "metadata": {},
   "outputs": [],
   "source": [
    "def gmxmd(name,nsteps = 20*500):\n",
    "    with open('md.mdp','w') as mdp:\n",
    "        mdp.write(f'''integrator              = md        ; leap-frog integrator\n",
    "dt                      = 0.002     ; 2 fs\n",
    "; Output control\n",
    "nstxout                 = 0         ; suppress bulky .trr file by specifying \n",
    "nstvout                 = 0         ; 0 for output frequency of nstxout,\n",
    "nstfout                 = 0         ; nstvout, and nstfout\n",
    "nstenergy               = 5000      ; save energies every 10.0 ps\n",
    "nstlog                  = 5000      ; update log file every 10.0 ps\n",
    "nstxout-compressed      = 5000      ; save compressed coordinates every 10.0 ps\n",
    "compressed-x-grps       = Protein    \n",
    "; Bond parameters\n",
    "continuation            = yes       ; Restarting after NPT \n",
    "constraint_algorithm    = lincs     ; holonomic constraints \n",
    "constraints             = h-bonds   ; bonds involving H are constrained\n",
    "lincs_iter              = 1         ; accuracy of LINCS\n",
    "lincs_order             = 4         ; also related to accuracy\n",
    "; Neighborsearching\n",
    "cutoff-scheme           = Verlet    ; Buffered neighbor searching\n",
    "ns_type                 = grid      ; search neighboring grid cells\n",
    "nstlist                 = 10        ; 20 fs, largely irrelevant with Verlet scheme\n",
    "rcoulomb                = 1.0       ; short-range electrostatic cutoff (in nm)\n",
    "rvdw                    = 1.0       ; short-range van der Waals cutoff (in nm)\n",
    "; Electrostatics\n",
    "coulombtype             = PME       ; Particle Mesh Ewald for long-range electrostatics\n",
    "pme_order               = 4         ; cubic interpolation\n",
    "fourierspacing          = 0.16      ; grid spacing for FFT\n",
    "; Temperature coupling is on\n",
    "tcoupl                  = V-rescale             ; modified Berendsen thermostat\n",
    "tc-grps                 = Protein Non-Protein   ; two coupling groups - more accurate\n",
    "tau_t                   = 0.1     0.1           ; time constant, in ps\n",
    "ref_t                   = 300 300           ; reference temperature, one for each group, in K\n",
    "; Pressure coupling is on\n",
    "pcoupl                  = Parrinello-Rahman     ; Pressure coupling on in NPT\n",
    "pcoupltype              = isotropic             ; uniform scaling of box vectors\n",
    "tau_p                   = 2.0                   ; time constant, in ps\n",
    "ref_p                   = 1.0                   ; reference pressure, in bar\n",
    "compressibility         = 4.5e-5                ; isothermal compressibility of water, bar^-1\n",
    "; Periodic boundary conditions\n",
    "pbc                     = xyz       ; 3-D PBC\n",
    "; Dispersion correction\n",
    "DispCorr                = EnerPres  ; account for cut-off vdW scheme\n",
    "; Velocity generation\n",
    "gen_vel                 = no        ; Velocity generation is off \n",
    "nsteps = {nsteps}\n",
    "''')\n",
    "\n",
    "    gmx.grompp(f=\"md.mdp\",c=\"npt.gro\",r=\"npt.gro\",p=name+'-ions.top',o=name+\".tpr\")\n"
   ]
  },
  {
   "cell_type": "code",
   "execution_count": null,
   "id": "21",
   "metadata": {},
   "outputs": [],
   "source": [
    "# gmxmd(mol)"
   ]
  },
  {
   "cell_type": "markdown",
   "id": "22",
   "metadata": {},
   "source": [
    "### Příprava simulace komplet\n",
    "Vše předchozí v jedné funkci, pro dané PDB ID molekuly připraví soubor `{mol}.tpr`, který je pak vstupem pro ladění."
   ]
  },
  {
   "cell_type": "code",
   "execution_count": null,
   "id": "23",
   "metadata": {},
   "outputs": [],
   "source": [
    "def prepareTPR(mol):\n",
    "    getPDB(mol)\n",
    "    gmxsetup(mol)\n",
    "    gmxions(mol)\n",
    "    gmxmin(mol)\n",
    "    gmxequilib(mol)\n",
    "    gmxmd(mol)    "
   ]
  },
  {
   "cell_type": "markdown",
   "id": "24",
   "metadata": {},
   "source": [
    "### Práce s API tuneru\n",
    "Klasický REST:\n",
    "- `POST /tuner_runs/` akceptuje soubor `.tpr`, vrátí `ID` experimentu a spustí ladění\n",
    "- `GET /tuner_runs/ID/status` vrací stav včetně průběžných výsledků ladění\n",
    "- `DELETE /tuner_runs/ID` pozabíjí případně ještě běžící pokusy a uklidí\n",
    "\n",
    "V `tunerWatch()` se opakovaně ptáme na stav dokud dost pokusů nedoběhne do konce"
   ]
  },
  {
   "cell_type": "code",
   "execution_count": null,
   "id": "25",
   "metadata": {},
   "outputs": [],
   "source": [
    "def tunerSubmit(tpr):\n",
    "    auth = tuple(tuner_auth.split(':'))\n",
    "    with open(tpr,'rb') as t:\n",
    "        resp = requests.post(tuner + '/tuner_runs',files={'file':t},auth=auth)\n",
    "    return resp.json()['data']['tuner_run_id']"
   ]
  },
  {
   "cell_type": "code",
   "execution_count": null,
   "id": "26",
   "metadata": {},
   "outputs": [],
   "source": [
    "def tunerStatus(id):\n",
    "    auth = tuple(tuner_auth.split(':'))\n",
    "    stat = requests.get(tuner + '/tuner_runs/' + id + '/status',auth=auth)\n",
    "    return stat.json()"
   ]
  },
  {
   "cell_type": "code",
   "execution_count": null,
   "id": "27",
   "metadata": {},
   "outputs": [],
   "source": [
    "def tunerWatch(id,mindone=6):\n",
    "    while True:\n",
    "        stat=tunerStatus(id)\n",
    "        if stat['success'] and len(stat['data']['trials']) > 0:\n",
    "            break\n",
    "            \n",
    "    while True:\n",
    "        stat=tunerStatus(id)\n",
    "        f=pd.DataFrame(stat['data']['trials']).sort_values('performance',ascending=False)\n",
    "        clear_output()\n",
    "        display(f)\n",
    "        if f['status'].value_counts().get('TERMINATED',0) >= mindone:\n",
    "            return stat\n",
    "        time.sleep(10)   "
   ]
  },
  {
   "cell_type": "code",
   "execution_count": null,
   "id": "28",
   "metadata": {},
   "outputs": [],
   "source": [
    "def parseStatus(stat):\n",
    "    f=pd.DataFrame(stat['data']['trials']).sort_values('performance',ascending=False)\n",
    "   \n",
    "    commands = [f\"mpirun -np {r['np']} gmx mdrun -deffnm md -ntomp {r['ntomp']} -nb {r['nb']} -pme {r['pme']} # {r['performance']} ns/day\"\n",
    "        for _,r in f[f['status']=='TERMINATED'].iterrows() ]\n",
    "\n",
    "    return commands\n"
   ]
  },
  {
   "cell_type": "code",
   "execution_count": null,
   "id": "29",
   "metadata": {},
   "outputs": [],
   "source": [
    "def deleteTuner(id):\n",
    "    auth = tuple(tuner_auth.split(':'))\n",
    "    requests.delete(tuner + '/tuner_runs/' + id,auth=auth)"
   ]
  },
  {
   "cell_type": "markdown",
   "id": "30",
   "metadata": {},
   "source": [
    "## Vlastní tutorial\n",
    "Pokračujte podle https://makkoen.github.io/openai-agents-workshop, resp. [playground.ipynb](playground.ipynb). \n",
    "\n",
    "Příjemnou zábavu."
   ]
  },
  {
   "cell_type": "markdown",
   "id": "31",
   "metadata": {},
   "source": [
    "## Ruční čistka\n",
    "Smaže i joby vašich kolegů, odkomentujte jedovatý řádek, jen když to opravdu chcete."
   ]
  },
  {
   "cell_type": "code",
   "execution_count": null,
   "id": "32",
   "metadata": {},
   "outputs": [],
   "source": [
    "auth = tuple(tuner_auth.split(':'))\n",
    "resp=requests.get(tuner + '/tuner_runs',auth=auth)\n",
    "resp"
   ]
  },
  {
   "cell_type": "code",
   "execution_count": null,
   "id": "33",
   "metadata": {},
   "outputs": [],
   "source": [
    "resp.json()"
   ]
  },
  {
   "cell_type": "code",
   "execution_count": null,
   "id": "34",
   "metadata": {},
   "outputs": [],
   "source": [
    "for id in resp.json()['data']['active_jobs']:\n",
    "#    deleteTuner(id)\n",
    "    pass"
   ]
  },
  {
   "cell_type": "code",
   "execution_count": null,
   "id": "35",
   "metadata": {},
   "outputs": [],
   "source": []
  }
 ],
 "metadata": {
  "kernelspec": {
   "display_name": "Python [conda env:base] *",
   "language": "python",
   "name": "conda-base-py"
  },
  "language_info": {
   "codemirror_mode": {
    "name": "ipython",
    "version": 3
   },
   "file_extension": ".py",
   "mimetype": "text/x-python",
   "name": "python",
   "nbconvert_exporter": "python",
   "pygments_lexer": "ipython3",
   "version": "3.11.6"
  }
 },
 "nbformat": 4,
 "nbformat_minor": 5
}
