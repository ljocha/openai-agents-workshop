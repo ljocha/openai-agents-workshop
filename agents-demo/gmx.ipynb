{
 "cells": [
  {
   "cell_type": "code",
   "execution_count": null,
   "id": "0",
   "metadata": {},
   "outputs": [],
   "source": [
    "import gromacs as gmx\n",
    "import requests\n",
    "import json"
   ]
  },
  {
   "cell_type": "code",
   "execution_count": null,
   "id": "1",
   "metadata": {},
   "outputs": [],
   "source": [
    "mol='1l2y'"
   ]
  },
  {
   "cell_type": "code",
   "execution_count": null,
   "id": "2",
   "metadata": {},
   "outputs": [],
   "source": [
    "# imports\n",
    "from openai import OpenAI\n",
    "import json"
   ]
  },
  {
   "cell_type": "code",
   "execution_count": null,
   "id": "3",
   "metadata": {},
   "outputs": [],
   "source": [
    "tuner = \"https://gromacs-tuner.dyn.cloud.e-infra.cz/api\"\n",
    "\n",
    "with open('tuner-auth') as a:\n",
    "    tuner_auth = a.read().strip()\n"
   ]
  },
  {
   "cell_type": "code",
   "execution_count": null,
   "id": "4",
   "metadata": {},
   "outputs": [],
   "source": [
    "#API key\n",
    "with open('key') as k:\n",
    "    OPENAI_API_KEY=k.read().strip()"
   ]
  },
  {
   "cell_type": "code",
   "execution_count": null,
   "id": "5",
   "metadata": {},
   "outputs": [],
   "source": [
    "client = OpenAI(api_key=OPENAI_API_KEY)"
   ]
  },
  {
   "cell_type": "code",
   "execution_count": null,
   "id": "6",
   "metadata": {},
   "outputs": [],
   "source": [
    "SYSTEM_PROMPT=\"\"\"\n",
    "You are an assistant who can help the user to find out what are the best parameters like number of MPI processes, number of OMP threads, and GPU use for different\n",
    "subtasks of molecular dynamics simulation using Gromacs on a particular protein which structure can be downloaded from the PDB database.\n",
    "Assume the user quite expert in computational biochemistry but he/she does not understand the details of computational setup, and uses this as a blackbox,\n",
    "just copy and pasting Gromacs command line parameters.\n",
    "\"\"\""
   ]
  },
  {
   "cell_type": "code",
   "execution_count": null,
   "id": "7",
   "metadata": {},
   "outputs": [],
   "source": [
    "messages = [\n",
    "    {\"role\": \"system\", \"content\": SYSTEM_PROMPT},\n",
    "    {\"role\": \"user\", \"content\": \"What is the best way to run Gromacs molecular dynamics simulation on PDB id 1FME\" }\n",
    "]"
   ]
  },
  {
   "cell_type": "code",
   "execution_count": null,
   "id": "8",
   "metadata": {},
   "outputs": [],
   "source": [
    "response = client.chat.completions.create(\n",
    "    model=\"gpt-4o-mini\",\n",
    "    messages=messages,\n",
    ")"
   ]
  },
  {
   "cell_type": "code",
   "execution_count": null,
   "id": "9",
   "metadata": {
    "jupyter": {
     "outputs_hidden": true
    }
   },
   "outputs": [],
   "source": [
    "print(response.choices[0].message.content)"
   ]
  },
  {
   "cell_type": "code",
   "execution_count": null,
   "id": "10",
   "metadata": {},
   "outputs": [],
   "source": [
    "def getPDB(pdbid):\n",
    "    url = f\"https://files.rcsb.org/download/{pdbid.upper()}.pdb\"\n",
    "    response = requests.get(url)\n",
    "    if response.status_code == 200:\n",
    "        with open(f\"{pdbid}.pdb\", \"w\") as f:\n",
    "            f.write(response.text)\n",
    "        print(f\"Downloaded {pdbid}.pdb\")\n",
    "    else:\n",
    "        raise ValueError(response.text)"
   ]
  },
  {
   "cell_type": "code",
   "execution_count": null,
   "id": "11",
   "metadata": {},
   "outputs": [],
   "source": [
    "getPDB(mol)"
   ]
  },
  {
   "cell_type": "code",
   "execution_count": null,
   "id": "12",
   "metadata": {},
   "outputs": [],
   "source": [
    "def gmxsetup(name):\n",
    "    gmx.pdb2gmx(f=name+'.pdb',o=name+'.gro',water='tip3p',ff='amber99',p=name+'.top',ignh=True)\n",
    "    gmx.editconf(f=name+'.gro',o=name+'-box.gro',c=True,d='1.5', bt='dodecahedron')\n",
    "    !cp {name}.top {name}-solv.top\n",
    "    gmx.solvate(cp=name+'-box.gro',cs='spc216.gro',o=name+'-solv.gro',p=name+'-solv.top')\n",
    "    "
   ]
  },
  {
   "cell_type": "code",
   "execution_count": null,
   "id": "13",
   "metadata": {
    "jupyter": {
     "outputs_hidden": true
    }
   },
   "outputs": [],
   "source": [
    "gmxsetup(mol)"
   ]
  },
  {
   "cell_type": "code",
   "execution_count": null,
   "id": "14",
   "metadata": {},
   "outputs": [],
   "source": [
    "def gmxions(name):\n",
    "    with open('ions.mdp','w') as ions:\n",
    "        ions.write(\"\"\"\\\n",
    "integrator  = steep         ; Algorithm (steep = steepest descent minimization)\n",
    "emtol       = 1000.0        ; Stop minimization when the maximum force < 1000.0 kJ/mol/nm\n",
    "emstep      = 0.01          ; Minimization step size\n",
    "nsteps      = 50000         ; Maximum number of (minimization) steps to perform\n",
    "\n",
    "; Parameters describing how to find the neighbors of each atom and how to calculate the interactions\n",
    "nstlist         = 1         ; Frequency to update the neighbor list and long range forces\n",
    "cutoff-scheme\t= Verlet    ; Buffered neighbor searching \n",
    "ns_type         = grid      ; Method to determine neighbor list (simple, grid)\n",
    "coulombtype     = cutoff    ; Treatment of long range electrostatic interactions\n",
    "rcoulomb        = 1.0       ; Short-range electrostatic cut-off\n",
    "rvdw            = 1.0       ; Short-range Van der Waals cut-off\n",
    "pbc             = xyz       ; Periodic Boundary Conditions in all 3 dimensions\n",
    "\"\"\")\n",
    "    \n",
    "    gmx.grompp(f='ions.mdp',c=name+'-solv.gro',p=name+'-solv.top',o='ions.tpr')\n",
    "    gmx.select(s=name+'-solv.gro',on='solv.ndx',select='SOL')\n",
    "    !cp {name}-solv.top {name}-ions.top\n",
    "    gmx.genion(s='ions.tpr',n='solv.ndx',o=name+'-ions.gro',p=name+'-ions.top',pname='NA',nname='CL',neutral=True)"
   ]
  },
  {
   "cell_type": "code",
   "execution_count": null,
   "id": "15",
   "metadata": {},
   "outputs": [],
   "source": [
    "gmxions(mol)"
   ]
  },
  {
   "cell_type": "code",
   "execution_count": null,
   "id": "16",
   "metadata": {},
   "outputs": [],
   "source": [
    "def gmxmin(name):\n",
    "    with open('minim.mdp','w') as m:\n",
    "        m.write(\"\"\"\\\n",
    "integrator  = steep         ; Algorithm (steep = steepest descent minimization)\n",
    "emtol       = 1000.0        ; Stop minimization when the maximum force < 1000.0 kJ/mol/nm\n",
    "emstep      = 0.005          ; Minimization step size\n",
    "nsteps      = 50000         ; Maximum number of (minimization) steps to perform\n",
    "\n",
    "; Parameters describing how to find the neighbors of each atom and how to calculate the interactions\n",
    "nstlist         = 1         ; Frequency to update the neighbor list and long range forces\n",
    "cutoff-scheme   = Verlet    ; Buffered neighbor searching\n",
    "ns_type         = grid      ; Method to determine neighbor list (simple, grid)\n",
    "coulombtype     = PME       ; Treatment of long range electrostatic interactions\n",
    "rcoulomb        = 1.0       ; Short-range electrostatic cut-off\n",
    "rvdw            = 1.0       ; Short-range Van der Waals cut-off\n",
    "pbc             = xyz       ; Periodic Boundary Conditions in all 3 dimensions\n",
    "\n",
    "nstxout                 = 50         \n",
    "nstvout                 = 0        \n",
    "nstfout                 = 0\n",
    "nstenergy               = 50         \n",
    "\"\"\")\n",
    "    \n",
    "    gmx.grompp(f='minim.mdp',c=name+'-ions.gro',p=name+'-ions.top',o='em.tpr')\n",
    "    gmx.mdrun(deffnm='em')"
   ]
  },
  {
   "cell_type": "code",
   "execution_count": null,
   "id": "17",
   "metadata": {},
   "outputs": [],
   "source": [
    "gmxmin(mol)"
   ]
  },
  {
   "cell_type": "code",
   "execution_count": null,
   "id": "18",
   "metadata": {},
   "outputs": [],
   "source": [
    "# works for small proteins but can be a bit unrealistic (20ps)\n",
    "\n",
    "def gmxequilib(name,eqsteps = 10000):\n",
    "    with open('nvt.mdp','w') as nvt:\n",
    "        nvt.write(f'''title                   = NVT equilibration \n",
    "define                  = -DPOSRES  ; position restrain the protein\n",
    "; Run parameters\n",
    "integrator              = md        ; leap-frog integrator\n",
    "nsteps                  = {eqsteps}     ; 2 * 50000 = 100 ps\n",
    "dt                      = 0.002     ; 2 fs\n",
    "; Output control\n",
    "nstxout                 = 500       ; save coordinates every 1.0 ps\n",
    "nstvout                 = 500       ; save velocities every 1.0 ps\n",
    "nstenergy               = 500       ; save energies every 1.0 ps\n",
    "nstlog                  = 500       ; update log file every 1.0 ps\n",
    "; Bond parameters\n",
    "continuation            = no        ; first dynamics run\n",
    "constraint_algorithm    = lincs     ; holonomic constraints \n",
    "constraints             = h-bonds   ; bonds involving H are constrained\n",
    "lincs_iter              = 1         ; accuracy of LINCS\n",
    "lincs_order             = 4         ; also related to accuracy\n",
    "; Nonbonded settings \n",
    "cutoff-scheme           = Verlet    ; Buffered neighbor searching\n",
    "ns_type                 = grid      ; search neighboring grid cells\n",
    "nstlist                 = 10        ; 20 fs, largely irrelevant with Verlet\n",
    "rcoulomb                = 1.0       ; short-range electrostatic cutoff (in nm)\n",
    "rvdw                    = 1.0       ; short-range van der Waals cutoff (in nm)\n",
    "DispCorr                = EnerPres  ; account for cut-off vdW scheme\n",
    "; Electrostatics\n",
    "coulombtype             = PME       ; Particle Mesh Ewald for long-range electrostatics\n",
    "pme_order               = 4         ; cubic interpolation\n",
    "fourierspacing          = 0.16      ; grid spacing for FFT\n",
    "; Temperature coupling is on\n",
    "tcoupl                  = V-rescale             ; modified Berendsen thermostat\n",
    "tc-grps                 = Protein Non-Protein   ; two coupling groups - more accurate\n",
    "tau_t                   = 0.1     0.1           ; time constant, in ps\n",
    "ref_t                   = 300     300           ; reference temperature, one for each group, in K\n",
    "; Pressure coupling is off\n",
    "pcoupl                  = no        ; no pressure coupling in NVT\n",
    "; Periodic boundary conditions\n",
    "pbc                     = xyz       ; 3-D PBC\n",
    "; Velocity generation\n",
    "gen_vel                 = yes       ; assign velocities from Maxwell distribution\n",
    "gen_temp                = 300       ; temperature for Maxwell distribution\n",
    "gen_seed                = -1        ; generate a random seed\n",
    "''')\n",
    "    gmx.grompp(f=\"nvt.mdp\",c=\"em.gro\",r=\"em.gro\",p=name+'-ions.top',o=\"nvt.tpr\")\n",
    "    gmx.mdrun(deffnm='nvt',pin='on')\n",
    "    \n",
    "    with open('npt.mdp','w') as npt:\n",
    "        npt.write(f'''define                  = -DPOSRES  ; position restrain the protein\n",
    "; Run parameters\n",
    "integrator              = md        ; leap-frog integrator\n",
    "nsteps                  = {eqsteps}     ; 2 * 50000 = 100 ps\n",
    "dt                      = 0.002     ; 2 fs\n",
    "; Output control\n",
    "nstxout                 = 500       ; save coordinates every 1.0 ps\n",
    "nstvout                 = 500       ; save velocities every 1.0 ps\n",
    "nstenergy               = 500       ; save energies every 1.0 ps\n",
    "nstlog                  = 500       ; update log file every 1.0 ps\n",
    "; Bond parameters\n",
    "continuation            = yes       ; Restarting after NVT \n",
    "constraint_algorithm    = lincs     ; holonomic constraints \n",
    "constraints             = h-bonds   ; bonds involving H are constrained\n",
    "lincs_iter              = 1         ; accuracy of LINCS\n",
    "lincs_order             = 4         ; also related to accuracy\n",
    "; Nonbonded settings \n",
    "cutoff-scheme           = Verlet    ; Buffered neighbor searching\n",
    "ns_type                 = grid      ; search neighboring grid cells\n",
    "nstlist                 = 10        ; 20 fs, largely irrelevant with Verlet scheme\n",
    "rcoulomb                = 1.0       ; short-range electrostatic cutoff (in nm)\n",
    "rvdw                    = 1.0       ; short-range van der Waals cutoff (in nm)\n",
    "DispCorr                = EnerPres  ; account for cut-off vdW scheme\n",
    "; Electrostatics\n",
    "coulombtype             = PME       ; Particle Mesh Ewald for long-range electrostatics\n",
    "pme_order               = 4         ; cubic interpolation\n",
    "fourierspacing          = 0.16      ; grid spacing for FFT\n",
    "; Temperature coupling is on\n",
    "tcoupl                  = V-rescale             ; modified Berendsen thermostat\n",
    "tc-grps                 = Protein Non-Protein   ; two coupling groups - more accurate\n",
    "tau_t                   = 0.1     0.1           ; time constant, in ps\n",
    "ref_t                   = 300     300           ; reference temperature, one for each group, in K\n",
    "; Pressure coupling is on\n",
    "; ljocha pcoupl                  = Parrinello-Rahman     ; Pressure coupling on in NPT\n",
    "pcoupl = C-rescale\n",
    "pcoupltype              = isotropic             ; uniform scaling of box vectors\n",
    "; ljocha tau_p                   = 2.0                   ; time constant, in ps\n",
    "tau_p = 5.0\n",
    "ref_p                   = 1.0                   ; reference pressure, in bar\n",
    "compressibility         = 4.5e-5                ; isothermal compressibility of water, bar^-1\n",
    "refcoord_scaling        = com\n",
    "; Periodic boundary conditions\n",
    "pbc                     = xyz       ; 3-D PBC\n",
    "; Velocity generation\n",
    "gen_vel                 = no        ; Velocity generation is off \n",
    "''')\n",
    "    gmx.grompp(f=\"npt.mdp\",c=\"nvt.gro\",r=\"nvt.gro\",p=name+'-ions.top',o=\"npt.tpr\")\n",
    "    gmx.mdrun(deffnm='npt',pin='on')\n",
    "\n",
    "    "
   ]
  },
  {
   "cell_type": "code",
   "execution_count": null,
   "id": "19",
   "metadata": {},
   "outputs": [],
   "source": [
    "gmxequilib(mol)"
   ]
  },
  {
   "cell_type": "code",
   "execution_count": null,
   "id": "20",
   "metadata": {},
   "outputs": [],
   "source": [
    "def gmxmd(name,nsteps = 10*1000*500):\n",
    "    with open('md.mdp','w') as mdp:\n",
    "        mdp.write(f'''integrator              = md        ; leap-frog integrator\n",
    "dt                      = 0.002     ; 2 fs\n",
    "; Output control\n",
    "nstxout                 = 0         ; suppress bulky .trr file by specifying \n",
    "nstvout                 = 0         ; 0 for output frequency of nstxout,\n",
    "nstfout                 = 0         ; nstvout, and nstfout\n",
    "nstenergy               = 5000      ; save energies every 10.0 ps\n",
    "nstlog                  = 5000      ; update log file every 10.0 ps\n",
    "nstxout-compressed      = 5000      ; save compressed coordinates every 10.0 ps\n",
    "compressed-x-grps       = Protein    \n",
    "; Bond parameters\n",
    "continuation            = yes       ; Restarting after NPT \n",
    "constraint_algorithm    = lincs     ; holonomic constraints \n",
    "constraints             = h-bonds   ; bonds involving H are constrained\n",
    "lincs_iter              = 1         ; accuracy of LINCS\n",
    "lincs_order             = 4         ; also related to accuracy\n",
    "; Neighborsearching\n",
    "cutoff-scheme           = Verlet    ; Buffered neighbor searching\n",
    "ns_type                 = grid      ; search neighboring grid cells\n",
    "nstlist                 = 10        ; 20 fs, largely irrelevant with Verlet scheme\n",
    "rcoulomb                = 1.0       ; short-range electrostatic cutoff (in nm)\n",
    "rvdw                    = 1.0       ; short-range van der Waals cutoff (in nm)\n",
    "; Electrostatics\n",
    "coulombtype             = PME       ; Particle Mesh Ewald for long-range electrostatics\n",
    "pme_order               = 4         ; cubic interpolation\n",
    "fourierspacing          = 0.16      ; grid spacing for FFT\n",
    "; Temperature coupling is on\n",
    "tcoupl                  = V-rescale             ; modified Berendsen thermostat\n",
    "tc-grps                 = Protein Non-Protein   ; two coupling groups - more accurate\n",
    "tau_t                   = 0.1     0.1           ; time constant, in ps\n",
    "ref_t                   = 300 300           ; reference temperature, one for each group, in K\n",
    "; Pressure coupling is on\n",
    "pcoupl                  = Parrinello-Rahman     ; Pressure coupling on in NPT\n",
    "pcoupltype              = isotropic             ; uniform scaling of box vectors\n",
    "tau_p                   = 2.0                   ; time constant, in ps\n",
    "ref_p                   = 1.0                   ; reference pressure, in bar\n",
    "compressibility         = 4.5e-5                ; isothermal compressibility of water, bar^-1\n",
    "; Periodic boundary conditions\n",
    "pbc                     = xyz       ; 3-D PBC\n",
    "; Dispersion correction\n",
    "DispCorr                = EnerPres  ; account for cut-off vdW scheme\n",
    "; Velocity generation\n",
    "gen_vel                 = no        ; Velocity generation is off \n",
    "nsteps = {nsteps}\n",
    "''')\n",
    "\n",
    "    gmx.grompp(f=\"md.mdp\",c=\"npt.gro\",r=\"npt.gro\",p=name+'-ions.top',o=name+\".tpr\")\n"
   ]
  },
  {
   "cell_type": "code",
   "execution_count": null,
   "id": "21",
   "metadata": {},
   "outputs": [],
   "source": [
    "gmxmd(mol)"
   ]
  },
  {
   "cell_type": "code",
   "execution_count": null,
   "id": "22",
   "metadata": {},
   "outputs": [],
   "source": [
    "def tunerSubmit(tpr):\n",
    "    auth = tuple(tuner_auth.split(':'))\n",
    "    with open(tpr,'rb') as t:\n",
    "        resp = requests.post(tuner + '/tuner_runs',files={'file':t},auth=auth)\n",
    "    return resp.json()['data']['tuner_run_id']"
   ]
  },
  {
   "cell_type": "code",
   "execution_count": null,
   "id": "23",
   "metadata": {},
   "outputs": [],
   "source": [
    "id = tunerSubmit(mol+'.tpr')\n",
    "id"
   ]
  },
  {
   "cell_type": "code",
   "execution_count": null,
   "id": "24",
   "metadata": {},
   "outputs": [],
   "source": [
    "def tunerStatus(id):\n",
    "    auth = tuple(tuner_auth.split(':'))\n",
    "    stat = requests.get(tuner + '/tuner_runs/' + id + '/status',auth=auth)\n",
    "    return stat.json()"
   ]
  },
  {
   "cell_type": "code",
   "execution_count": null,
   "id": "25",
   "metadata": {},
   "outputs": [],
   "source": [
    "tunerStatus(id)"
   ]
  },
  {
   "cell_type": "code",
   "execution_count": null,
   "id": "26",
   "metadata": {},
   "outputs": [],
   "source": [
    "def gmxtune(pdbid):\n",
    "    \"\"\"\n",
    "    Download initial PDB structure, set up Gromacs simulation and, by talking to the tuner service, find out what are the most promising\n",
    "    combinations of parameters like number of MPI processes, number of OMP threads, and GPU use for different\n",
    "    subtasks of molecular dynamics.\n",
    "\n",
    "    Args:\n",
    "        pdb (str): The identifier of the input structure to be found in PDB database\n",
    "    \n",
    "    Returns:\n",
    "        str: List of the most promising gromacs commands to execute, including the estimated performance (the more, the better)\n",
    "    \"\"\"\n",
    "    \n",
    "    return f\"\"\"gmx mdrun -ntomp 2 -ntmpi 4 -nb gpu -pme gpu -deffnm {pdbid} # 222 ns/day\n",
    "gmx mdrun -ntomp 4 -ntmpi 4 -pme gpu -deffnm {pdbid} 188 ns/day\n",
    "\"\"\""
   ]
  },
  {
   "cell_type": "code",
   "execution_count": null,
   "id": "27",
   "metadata": {},
   "outputs": [],
   "source": [
    "tools = [{\n",
    "    \"type\": \"function\",\n",
    "    \"function\": {\n",
    "        \"name\": gmxtune.__name__,\n",
    "        \"description\": gmxtune.__doc__,\n",
    "        \"parameters\": {\n",
    "            \"type\": \"object\",\n",
    "            \"properties\": {\n",
    "                \"pdbid\": {\"type\": \"string\"},\n",
    "            },\n",
    "            \"required\": [\"pdbid\"],\n",
    "            \"additionalProperties\": False\n",
    "        },\n",
    "        \"strict\": True\n",
    "    }\n",
    "}]"
   ]
  },
  {
   "cell_type": "code",
   "execution_count": null,
   "id": "28",
   "metadata": {},
   "outputs": [],
   "source": [
    "response = client.chat.completions.create(\n",
    "    model=\"gpt-4o-mini\",\n",
    "    messages=messages,\n",
    "    tools=tools,\n",
    ")"
   ]
  },
  {
   "cell_type": "code",
   "execution_count": null,
   "id": "29",
   "metadata": {},
   "outputs": [],
   "source": [
    "response"
   ]
  },
  {
   "cell_type": "code",
   "execution_count": null,
   "id": "30",
   "metadata": {},
   "outputs": [],
   "source": [
    "messages.append(response.choices[0].message)"
   ]
  },
  {
   "cell_type": "code",
   "execution_count": null,
   "id": "31",
   "metadata": {},
   "outputs": [],
   "source": [
    "pdbid = eval(response.choices[0].message.tool_calls[0].function.arguments)['pdbid']\n",
    "pdbid"
   ]
  },
  {
   "cell_type": "code",
   "execution_count": null,
   "id": "32",
   "metadata": {},
   "outputs": [],
   "source": [
    "messages.append(\n",
    "    {\n",
    "    \"role\": \"tool\",\n",
    "    \"tool_call_id\": response.choices[0].message.tool_calls[0].id,\n",
    "    \"content\": gmxtune(pdbid)\n",
    "    })\n",
    "messages"
   ]
  },
  {
   "cell_type": "code",
   "execution_count": null,
   "id": "33",
   "metadata": {},
   "outputs": [],
   "source": [
    "response = client.chat.completions.create(\n",
    "    model=\"gpt-4o-mini\",\n",
    "    messages=messages,\n",
    "    tools=tools,\n",
    ")"
   ]
  },
  {
   "cell_type": "code",
   "execution_count": null,
   "id": "34",
   "metadata": {},
   "outputs": [],
   "source": [
    "response"
   ]
  },
  {
   "cell_type": "code",
   "execution_count": null,
   "id": "35",
   "metadata": {},
   "outputs": [],
   "source": [
    "print(response.choices[0].message.content)"
   ]
  },
  {
   "cell_type": "code",
   "execution_count": null,
   "id": "36",
   "metadata": {},
   "outputs": [],
   "source": []
  }
 ],
 "metadata": {
  "kernelspec": {
   "display_name": "Python [conda env:base] *",
   "language": "python",
   "name": "conda-base-py"
  },
  "language_info": {
   "codemirror_mode": {
    "name": "ipython",
    "version": 3
   },
   "file_extension": ".py",
   "mimetype": "text/x-python",
   "name": "python",
   "nbconvert_exporter": "python",
   "pygments_lexer": "ipython3",
   "version": "3.11.6"
  }
 },
 "nbformat": 4,
 "nbformat_minor": 5
}
